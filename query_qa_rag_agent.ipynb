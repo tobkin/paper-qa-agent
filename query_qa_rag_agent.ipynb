{
 "cells": [
  {
   "cell_type": "markdown",
   "metadata": {},
   "source": [
    "### Imports & Global Definitions"
   ]
  },
  {
   "cell_type": "code",
   "execution_count": 2,
   "metadata": {},
   "outputs": [
    {
     "name": "stdout",
     "output_type": "stream",
     "text": [
      "<function _get_weaviate_client_version at 0x10593cea0>\n"
     ]
    }
   ],
   "source": [
    "from importlib.metadata import version, PackageNotFoundError\n",
    "\n",
    "def _get_weaviate_client_version():\n",
    "    pkg_name = \"weaviate-client\"\n",
    "    try:\n",
    "        return version(pkg_name)\n",
    "    except PackageNotFoundError:\n",
    "        return None\n",
    "\n",
    "client_version = _get_weaviate_client_version()\n",
    "print(client_version)"
   ]
  },
  {
   "cell_type": "code",
   "execution_count": 1,
   "metadata": {},
   "outputs": [
    {
     "ename": "NameError",
     "evalue": "name 'config' is not defined",
     "output_type": "error",
     "traceback": [
      "\u001b[0;31m---------------------------------------------------------------------------\u001b[0m",
      "\u001b[0;31mNameError\u001b[0m                                 Traceback (most recent call last)",
      "Cell \u001b[0;32mIn[1], line 8\u001b[0m\n\u001b[1;32m      5\u001b[0m   display(Markdown(content))\n\u001b[1;32m      7\u001b[0m doc_uri \u001b[38;5;241m=\u001b[39m \u001b[38;5;124m\"\u001b[39m\u001b[38;5;124mhttps://arxiv.org/html/2312.10997v5\u001b[39m\u001b[38;5;124m\"\u001b[39m\n\u001b[0;32m----> 8\u001b[0m qa_agent \u001b[38;5;241m=\u001b[39m \u001b[43mNaiveWcsQaRagAgent\u001b[49m\u001b[43m(\u001b[49m\u001b[43mdoc_uri\u001b[49m\u001b[43m)\u001b[49m\n",
      "File \u001b[0;32m~/src/paper-qa-agent/agents.py:12\u001b[0m, in \u001b[0;36mNaiveWcsQaRagAgent.__init__\u001b[0;34m(self, doc_uri)\u001b[0m\n\u001b[1;32m     10\u001b[0m \u001b[38;5;28;01mdef\u001b[39;00m \u001b[38;5;21m__init__\u001b[39m(\u001b[38;5;28mself\u001b[39m, doc_uri):\n\u001b[1;32m     11\u001b[0m   \u001b[38;5;28mself\u001b[39m\u001b[38;5;241m.\u001b[39m_validate_env_variables()\n\u001b[0;32m---> 12\u001b[0m   \u001b[38;5;28mself\u001b[39m\u001b[38;5;241m.\u001b[39m_indexer \u001b[38;5;241m=\u001b[39m \u001b[43mNaiveWcsIndexer\u001b[49m\u001b[43m(\u001b[49m\u001b[43mdoc_uri\u001b[49m\u001b[43m,\u001b[49m\u001b[43m \u001b[49m\u001b[43mWCS_COLLECTION_NAME\u001b[49m\u001b[43m)\u001b[49m\n\u001b[1;32m     13\u001b[0m   \u001b[38;5;28mself\u001b[39m\u001b[38;5;241m.\u001b[39m_retriever \u001b[38;5;241m=\u001b[39m NaiveWcsRetriever(WCS_COLLECTION_NAME)\n\u001b[1;32m     14\u001b[0m   \u001b[38;5;28mself\u001b[39m\u001b[38;5;241m.\u001b[39m_generator \u001b[38;5;241m=\u001b[39m Gpt35Generator()\n",
      "File \u001b[0;32m~/src/paper-qa-agent/indexers.py:29\u001b[0m, in \u001b[0;36mNaiveWcsIndexer.__init__\u001b[0;34m(self, doc_uri, wcs_collection_name)\u001b[0m\n\u001b[1;32m     27\u001b[0m cleaned_text \u001b[38;5;241m=\u001b[39m \u001b[38;5;28mself\u001b[39m\u001b[38;5;241m.\u001b[39m_preprocessor\u001b[38;5;241m.\u001b[39mget_text(document_content)\n\u001b[1;32m     28\u001b[0m text_splits \u001b[38;5;241m=\u001b[39m \u001b[38;5;28mself\u001b[39m\u001b[38;5;241m.\u001b[39m_text_splitter\u001b[38;5;241m.\u001b[39msplit_text(cleaned_text)\n\u001b[0;32m---> 29\u001b[0m \u001b[38;5;28mself\u001b[39m\u001b[38;5;241m.\u001b[39m_vector_db \u001b[38;5;241m=\u001b[39m \u001b[43mWeaviateVectorDb\u001b[49m\u001b[43m(\u001b[49m\u001b[43mtext_splits\u001b[49m\u001b[43m,\u001b[49m\u001b[43m \u001b[49m\u001b[38;5;28;43mself\u001b[39;49m\u001b[38;5;241;43m.\u001b[39;49m\u001b[43m_collection_name\u001b[49m\u001b[43m)\u001b[49m\n",
      "File \u001b[0;32m~/src/paper-qa-agent/vector_dbs.py:34\u001b[0m, in \u001b[0;36mWeaviateVectorDb.__init__\u001b[0;34m(self, text_splits, collection_name)\u001b[0m\n\u001b[1;32m     32\u001b[0m \u001b[38;5;28mself\u001b[39m\u001b[38;5;241m.\u001b[39mcollection_name \u001b[38;5;241m=\u001b[39m collection_name\n\u001b[1;32m     33\u001b[0m \u001b[38;5;28mself\u001b[39m\u001b[38;5;241m.\u001b[39mclient \u001b[38;5;241m=\u001b[39m \u001b[38;5;28;01mNone\u001b[39;00m\n\u001b[0;32m---> 34\u001b[0m \u001b[38;5;28;43mself\u001b[39;49m\u001b[38;5;241;43m.\u001b[39;49m\u001b[43m_setup_collection\u001b[49m\u001b[43m(\u001b[49m\u001b[43m)\u001b[49m\n\u001b[1;32m     35\u001b[0m \u001b[38;5;28mself\u001b[39m\u001b[38;5;241m.\u001b[39m_insert_data()\n",
      "File \u001b[0;32m~/src/paper-qa-agent/vector_dbs.py:89\u001b[0m, in \u001b[0;36mWeaviateVectorDb._setup_collection\u001b[0;34m(self)\u001b[0m\n\u001b[1;32m     87\u001b[0m client_version \u001b[38;5;241m=\u001b[39m _get_weaviate_client_version()\n\u001b[1;32m     88\u001b[0m \u001b[38;5;28;01mif\u001b[39;00m client_version \u001b[38;5;241m==\u001b[39m \u001b[38;5;124m\"\u001b[39m\u001b[38;5;124m4.5.6\u001b[39m\u001b[38;5;124m\"\u001b[39m:\n\u001b[0;32m---> 89\u001b[0m     \u001b[38;5;28;43mself\u001b[39;49m\u001b[38;5;241;43m.\u001b[39;49m\u001b[43m_setup_collection_4_5_6\u001b[49m\u001b[43m(\u001b[49m\u001b[43m)\u001b[49m\n\u001b[1;32m     90\u001b[0m \u001b[38;5;28;01melif\u001b[39;00m client_version \u001b[38;5;241m==\u001b[39m \u001b[38;5;124m\"\u001b[39m\u001b[38;5;124m3.26.2\u001b[39m\u001b[38;5;124m\"\u001b[39m:\n\u001b[1;32m     91\u001b[0m     \u001b[38;5;28mself\u001b[39m\u001b[38;5;241m.\u001b[39m_setup_collection_3_26_2()\n",
      "File \u001b[0;32m~/src/paper-qa-agent/vector_dbs.py:104\u001b[0m, in \u001b[0;36mWeaviateVectorDb._setup_collection_4_5_6\u001b[0;34m(self)\u001b[0m\n\u001b[1;32m     98\u001b[0m   \u001b[38;5;28;01mif\u001b[39;00m \u001b[38;5;28mself\u001b[39m\u001b[38;5;241m.\u001b[39mclient\u001b[38;5;241m.\u001b[39mcollections\u001b[38;5;241m.\u001b[39mexists(\u001b[38;5;28mself\u001b[39m\u001b[38;5;241m.\u001b[39mcollection_name):\n\u001b[1;32m     99\u001b[0m       \u001b[38;5;28mself\u001b[39m\u001b[38;5;241m.\u001b[39mclient\u001b[38;5;241m.\u001b[39mcollections\u001b[38;5;241m.\u001b[39mdelete(\u001b[38;5;28mself\u001b[39m\u001b[38;5;241m.\u001b[39mcollection_name)  \u001b[38;5;66;03m# Delete existing collection\u001b[39;00m\n\u001b[1;32m    101\u001b[0m   \u001b[38;5;28mself\u001b[39m\u001b[38;5;241m.\u001b[39mclient\u001b[38;5;241m.\u001b[39mcollections\u001b[38;5;241m.\u001b[39mcreate(\n\u001b[1;32m    102\u001b[0m       name\u001b[38;5;241m=\u001b[39m\u001b[38;5;28mself\u001b[39m\u001b[38;5;241m.\u001b[39mcollection_name,\n\u001b[1;32m    103\u001b[0m       properties\u001b[38;5;241m=\u001b[39m[\n\u001b[0;32m--> 104\u001b[0m           \u001b[43mconfig\u001b[49m\u001b[38;5;241m.\u001b[39mProperty(name\u001b[38;5;241m=\u001b[39m\u001b[38;5;124m\"\u001b[39m\u001b[38;5;124mchunk\u001b[39m\u001b[38;5;124m\"\u001b[39m, data_type\u001b[38;5;241m=\u001b[39mconfig\u001b[38;5;241m.\u001b[39mDataType\u001b[38;5;241m.\u001b[39mTEXT),\n\u001b[1;32m    105\u001b[0m           config\u001b[38;5;241m.\u001b[39mProperty(name\u001b[38;5;241m=\u001b[39m\u001b[38;5;124m\"\u001b[39m\u001b[38;5;124mchunk_index\u001b[39m\u001b[38;5;124m\"\u001b[39m, data_type\u001b[38;5;241m=\u001b[39mconfig\u001b[38;5;241m.\u001b[39mDataType\u001b[38;5;241m.\u001b[39mINT),\n\u001b[1;32m    106\u001b[0m       ],\n\u001b[1;32m    107\u001b[0m       \u001b[38;5;66;03m# Todo: should this be declared in the indexer?\u001b[39;00m\n\u001b[1;32m    108\u001b[0m       vectorizer_config\u001b[38;5;241m=\u001b[39mconfig\u001b[38;5;241m.\u001b[39mConfigure\u001b[38;5;241m.\u001b[39mVectorizer\u001b[38;5;241m.\u001b[39mtext2vec_openai()\n\u001b[1;32m    109\u001b[0m   )\n\u001b[1;32m    110\u001b[0m \u001b[38;5;28;01mfinally\u001b[39;00m:\n\u001b[1;32m    111\u001b[0m   \u001b[38;5;28mself\u001b[39m\u001b[38;5;241m.\u001b[39m_close()\n",
      "\u001b[0;31mNameError\u001b[0m: name 'config' is not defined"
     ]
    }
   ],
   "source": [
    "from agents import NaiveWcsQaRagAgent\n",
    "from IPython.display import Markdown\n",
    "\n",
    "def display_md(content):\n",
    "  display(Markdown(content))\n",
    "\n",
    "doc_uri = \"https://arxiv.org/html/2312.10997v5\"\n",
    "qa_agent = NaiveWcsQaRagAgent(doc_uri)"
   ]
  },
  {
   "cell_type": "markdown",
   "metadata": {},
   "source": [
    "### Usage Example"
   ]
  },
  {
   "cell_type": "code",
   "execution_count": null,
   "metadata": {},
   "outputs": [
    {
     "data": {
      "text/markdown": [
       "Naive RAG is the earliest methodology within the RAG research paradigm, emerging after the widespread adoption of ChatGPT. It follows a traditional process of indexing, retrieval, and generation, known as the \"Retrieve-Read\" framework. Naive RAG involves cleaning and extracting raw data in various formats, segmenting text into smaller parts, encoding them into vector representations, and storing them in a vector database."
      ],
      "text/plain": [
       "<IPython.core.display.Markdown object>"
      ]
     },
     "metadata": {},
     "output_type": "display_data"
    }
   ],
   "source": [
    "question = \"What is naive RAG?\"\n",
    "completion = qa_agent.query(question)\n",
    "display_md(completion)"
   ]
  },
  {
   "cell_type": "code",
   "execution_count": null,
   "metadata": {},
   "outputs": [
    {
     "data": {
      "text/markdown": [
       "The authors of the paper are Yunfan Gao, Yun Xiong, Xinyu Gao, Kangxiang Jia, Jinliu Pan, Yuxi Bi, Yi Dai, Jiawei Sun, Meng Wang, and Haofen Wang."
      ],
      "text/plain": [
       "<IPython.core.display.Markdown object>"
      ]
     },
     "metadata": {},
     "output_type": "display_data"
    }
   ],
   "source": [
    "question = \"Who are the authors of this paper?\"\n",
    "completion = qa_agent.query(question)\n",
    "display_md(completion)"
   ]
  },
  {
   "cell_type": "code",
   "execution_count": null,
   "metadata": {},
   "outputs": [
    {
     "data": {
      "text/markdown": [
       "Some benchmarks available for RAG evaluation include RGB, RECALL, and CRUD, which focus on assessing essential abilities of RAG models. These benchmarks are complemented by automated tools like RAGAS, ARES, and TruLens, which utilize LLMs to provide quality scores for RAG models. The evaluation framework for RAG models encompasses metrics such as retrieval quality, generation quality, context relevance, faithfulness, answer relevance, and various other aspects to comprehensively assess model performance."
      ],
      "text/plain": [
       "<IPython.core.display.Markdown object>"
      ]
     },
     "metadata": {},
     "output_type": "display_data"
    }
   ],
   "source": [
    "question = \"What are some benchmarks available for RAG?\"\n",
    "completion = qa_agent.query(question)\n",
    "display_md(completion)"
   ]
  }
 ],
 "metadata": {
  "kernelspec": {
   "display_name": "venv",
   "language": "python",
   "name": "python3"
  },
  "language_info": {
   "codemirror_mode": {
    "name": "ipython",
    "version": 3
   },
   "file_extension": ".py",
   "mimetype": "text/x-python",
   "name": "python",
   "nbconvert_exporter": "python",
   "pygments_lexer": "ipython3",
   "version": "3.12.2"
  }
 },
 "nbformat": 4,
 "nbformat_minor": 2
}
